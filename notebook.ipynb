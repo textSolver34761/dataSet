{
 "cells": [
  {
   "cell_type": "code",
   "execution_count": 1,
   "metadata": {},
   "outputs": [],
   "source": [
    "#Imports\n",
    "import pandas as pd\n",
    "import json\n",
    "from json.decoder import JSONDecodeError"
   ]
  },
  {
   "cell_type": "code",
   "execution_count": 2,
   "metadata": {},
   "outputs": [],
   "source": [
    "#Fonction\n",
    "def datajson(value):\n",
    "    result = value.to_json(orient=\"index\")\n",
    "    parsed = json.loads(result)\n",
    "    return json.dumps(parsed, indent=4)"
   ]
  },
  {
   "cell_type": "code",
   "execution_count": 3,
   "metadata": {},
   "outputs": [],
   "source": [
    "#Ouverture du fichier de données\n",
    "data = pd.read_csv('C:\\stockx.csv')"
   ]
  },
  {
   "cell_type": "code",
   "execution_count": 4,
   "metadata": {},
   "outputs": [],
   "source": [
    "#Définition des colonnes\n",
    "order_date = data['Order Date']\n",
    "brand = data['Brand']\n",
    "sneaker_name = data['Sneaker Name']\n",
    "sale_price = data['Sale Price']\n",
    "retail_price = data['Retail Price']\n",
    "release_date = data['Release Date']\n",
    "shoe_size = data['Shoe Size']\n",
    "buyer_region = data['Buyer Region']"
   ]
  },
  {
   "cell_type": "code",
   "execution_count": 25,
   "metadata": {},
   "outputs": [
    {
     "name": "stdout",
     "output_type": "stream",
     "text": [
      "Le prix moyen des ventes est : 446.63\n"
     ]
    }
   ],
   "source": [
    "#Prix moyen de vente\n",
    "sale_price_int = sale_price.str[1:]\n",
    "sale_price_point = sale_price_int.str.replace(',','')\n",
    "sale_price_final = sale_price_point.astype(int)\n",
    "prixMoyenVente = round(sale_price_final.mean(), 2)\n",
    "print(\"Le prix moyen des ventes est : \" + str(prixMoyenVente))"
   ]
  },
  {
   "cell_type": "code",
   "execution_count": 26,
   "metadata": {},
   "outputs": [
    {
     "name": "stdout",
     "output_type": "stream",
     "text": [
      "Le prix le plus élevé des ventes est : 4050\n"
     ]
    }
   ],
   "source": [
    "#Prix de vente le plus élevé\n",
    "prixEleverVente = sale_price_final.max()\n",
    "print(\"Le prix le plus élevé des ventes est : \" + str(prixEleverVente))"
   ]
  },
  {
   "cell_type": "code",
   "execution_count": 27,
   "metadata": {},
   "outputs": [
    {
     "name": "stdout",
     "output_type": "stream",
     "text": [
      "Le prix le plus bas des ventes est : 186\n"
     ]
    }
   ],
   "source": [
    "#Prix de vente le plus bas\n",
    "prixBasVente = sale_price_final.min()\n",
    "print(\"Le prix le plus bas des ventes est : \" + str(prixBasVente))"
   ]
  },
  {
   "cell_type": "code",
   "execution_count": 29,
   "metadata": {},
   "outputs": [
    {
     "name": "stdout",
     "output_type": "stream",
     "text": [
      "La taille moyenne des chaussures est : 9.34\n"
     ]
    }
   ],
   "source": [
    "#Pointure moyenne \n",
    "tailleMoyenne = round(shoe_size.mean(), 2)\n",
    "print(\"La pointure moyenne des chaussures est : \" + str(tailleMoyenne))"
   ]
  },
  {
   "cell_type": "code",
   "execution_count": 30,
   "metadata": {},
   "outputs": [
    {
     "name": "stdout",
     "output_type": "stream",
     "text": [
      "La taille la plus élevé des chaussures est : 17.0\n"
     ]
    }
   ],
   "source": [
    "#Pointure la plus élevé\n",
    "tailleEleve = shoe_size.max()\n",
    "print(\"La pointure la plus élevé des chaussures est : \" + str(tailleEleve))"
   ]
  },
  {
   "cell_type": "code",
   "execution_count": 31,
   "metadata": {},
   "outputs": [
    {
     "name": "stdout",
     "output_type": "stream",
     "text": [
      "La taille la plus basse des chaussures est : 3.5\n"
     ]
    }
   ],
   "source": [
    "#Pointure la plus basse\n",
    "tailleBasse = shoe_size.min()\n",
    "print(\"La pointure la plus basse des chaussures est : \" + str(tailleBasse))"
   ]
  },
  {
   "cell_type": "code",
   "execution_count": 33,
   "metadata": {},
   "outputs": [
    {
     "name": "stdout",
     "output_type": "stream",
     "text": [
      "Les pointures les plus vendus sont : {\n",
      "    \"10.0\": 11093,\n",
      "    \"9.0\": 9706,\n",
      "    \"11.0\": 9251,\n",
      "    \"10.5\": 8784,\n",
      "    \"9.5\": 8685,\n",
      "    \"12.0\": 7297,\n",
      "    \"8.0\": 5363,\n",
      "    \"8.5\": 5300,\n",
      "    \"13.0\": 4602,\n",
      "    \"11.5\": 4502\n",
      "}\n"
     ]
    }
   ],
   "source": [
    "#Pointure la plus vendu\n",
    "count_size = shoe_size.value_counts()\n",
    "taillePlusVendu = count_size.head(10)\n",
    "taillePlusVenduJson = datajson(taillePlusVendu)\n",
    "print(\"Les pointures les plus vendus sont : \" + str(taillePlusVenduJson))"
   ]
  },
  {
   "cell_type": "code",
   "execution_count": 34,
   "metadata": {},
   "outputs": [
    {
     "name": "stdout",
     "output_type": "stream",
     "text": [
      "Les pointures les moins vendus sont : {\n",
      "    \"6.5\": 2219,\n",
      "    \"14.0\": 1791,\n",
      "    \"4.5\": 1304,\n",
      "    \"12.5\": 628,\n",
      "    \"13.5\": 147,\n",
      "    \"15.0\": 130,\n",
      "    \"14.5\": 84,\n",
      "    \"16.0\": 79,\n",
      "    \"17.0\": 4,\n",
      "    \"3.5\": 4\n",
      "}\n"
     ]
    }
   ],
   "source": [
    "#Pointure la moins vendu\n",
    "tailleMoinsVendu = count_size.tail(10)\n",
    "tailleMoinsVenduJson = datajson(tailleMoinsVendu)\n",
    "print(\"Les pointures les moins vendus sont : \" + str(tailleMoinsVenduJson))"
   ]
  },
  {
   "cell_type": "code",
   "execution_count": 35,
   "metadata": {},
   "outputs": [
    {
     "name": "stdout",
     "output_type": "stream",
     "text": [
      "Les états qui achète le plus sont : {\n",
      "    \"California\": 19349,\n",
      "    \"New York\": 16525,\n",
      "    \"Oregon\": 7681,\n",
      "    \"Florida\": 6376,\n",
      "    \"Texas\": 5876,\n",
      "    \"New Jersey\": 4720,\n",
      "    \"Illinois\": 3782,\n",
      "    \"Pennsylvania\": 3109,\n",
      "    \"Massachusetts\": 2903,\n",
      "    \"Michigan\": 2762\n",
      "}\n"
     ]
    }
   ],
   "source": [
    "#Les états qui achète le plus\n",
    "count_buyer = buyer_region.value_counts()\n",
    "etats_max = count_buyer.head(10)\n",
    "etats_maxJson = datajson(etats_max)\n",
    "print(\"Les états qui achète le plus sont : \" + str(etats_maxJson))"
   ]
  },
  {
   "cell_type": "code",
   "execution_count": 36,
   "metadata": {},
   "outputs": [
    {
     "name": "stdout",
     "output_type": "stream",
     "text": [
      "Les états qui achète le moins sont : {\n",
      "    \"West Virginia\": 166,\n",
      "    \"Mississippi\": 163,\n",
      "    \"Maine\": 132,\n",
      "    \"Idaho\": 107,\n",
      "    \"Vermont\": 84,\n",
      "    \"North Dakota\": 64,\n",
      "    \"Alaska\": 61,\n",
      "    \"South Dakota\": 55,\n",
      "    \"Montana\": 49,\n",
      "    \"Wyoming\": 40\n",
      "}\n"
     ]
    }
   ],
   "source": [
    "#Les états qui achète le moins\n",
    "etats_min = count_buyer.tail(10)\n",
    "etats_minJson = datajson(etats_min)\n",
    "print(\"Les états qui achète le moins sont : \" + str(etats_minJson))"
   ]
  },
  {
   "cell_type": "code",
   "execution_count": 37,
   "metadata": {},
   "outputs": [
    {
     "name": "stdout",
     "output_type": "stream",
     "text": [
      "La marque qui achète le plus est :  Yeezy    72162\n",
      "Name: Brand, dtype: int64\n"
     ]
    }
   ],
   "source": [
    "#La marque qui achéte le plus\n",
    "count_brand = brand.value_counts()\n",
    "marque_max = count_brand.head(1)\n",
    "print(\"La marque qui achète le plus est : \" + str(marque_max))"
   ]
  },
  {
   "cell_type": "code",
   "execution_count": 38,
   "metadata": {},
   "outputs": [
    {
     "name": "stdout",
     "output_type": "stream",
     "text": [
      "La marque qui achète le moins est : Off-White    27794\n",
      "Name: Brand, dtype: int64\n"
     ]
    }
   ],
   "source": [
    "#La marque qui achète le moins\n",
    "marque_min = count_brand.tail(1)\n",
    "print(\"La marque qui achète le moins est : \" + str(marque_min))"
   ]
  },
  {
   "cell_type": "code",
   "execution_count": 39,
   "metadata": {},
   "outputs": [
    {
     "name": "stdout",
     "output_type": "stream",
     "text": [
      "Les modèles les plus vendus sont : {\n",
      "    \"adidas-Yeezy-Boost-350-V2-Butter\": 11423,\n",
      "    \"Adidas-Yeezy-Boost-350-V2-Beluga-2pt0\": 10395,\n",
      "    \"Adidas-Yeezy-Boost-350-V2-Zebra\": 10110,\n",
      "    \"Adidas-Yeezy-Boost-350-V2-Blue-Tint\": 9297,\n",
      "    \"Adidas-Yeezy-Boost-350-V2-Cream-White\": 9097,\n",
      "    \"Adidas-Yeezy-Boost-350-V2-Sesame\": 5553,\n",
      "    \"adidas-Yeezy-Boost-350-V2-Static\": 4983,\n",
      "    \"Adidas-Yeezy-Boost-350-V2-Semi-Frozen-Yellow\": 4854,\n",
      "    \"Air-Jordan-1-Retro-High-Off-White-University-Blue\": 4635,\n",
      "    \"adidas-Yeezy-Boost-350-V2-Static-Reflective\": 3184\n",
      "}\n"
     ]
    }
   ],
   "source": [
    "#Les modèles les plus vendus\n",
    "count_sneaker = sneaker_name.value_counts()\n",
    "modele_max = count_sneaker.head(10)\n",
    "modele_maxJson = datajson(modele_max)\n",
    "print(\"Les modèles les plus vendus sont : \" + str(modele_maxJson))"
   ]
  },
  {
   "cell_type": "code",
   "execution_count": 40,
   "metadata": {},
   "outputs": [
    {
     "name": "stdout",
     "output_type": "stream",
     "text": [
      "Les modèles les moins vendus sont : {\n",
      "    \"Nike-Blazer-Mid-Off-White-Wolf-Grey\": 288,\n",
      "    \"Adidas-Yeezy-Boost-350-V2-Core-Black-Copper\": 225,\n",
      "    \"Nike-Air-Max-97-Off-White-Elemental-Rose-Queen\": 216,\n",
      "    \"Adidas-Yeezy-Boost-350-V2-Core-Black-Green\": 196,\n",
      "    \"Adidas-Yeezy-Boost-350-Low-Pirate-Black-2016\": 122,\n",
      "    \"Adidas-Yeezy-Boost-350-Low-Moonrock\": 100,\n",
      "    \"Adidas-Yeezy-Boost-350-Low-Pirate-Black-2015\": 95,\n",
      "    \"Adidas-Yeezy-Boost-350-Low-Oxford-Tan\": 70,\n",
      "    \"Adidas-Yeezy-Boost-350-Low-Turtledove\": 68,\n",
      "    \"Nike-Air-Force-1-Low-Virgil-Abloh-Off-White-AF100\": 31\n",
      "}\n"
     ]
    }
   ],
   "source": [
    "#Les modèles les moins vendus\n",
    "modele_min = count_sneaker.tail(10)\n",
    "modele_minJson = datajson(modele_min)\n",
    "print(\"Les modèles les moins vendus sont : \" + str(modele_minJson))"
   ]
  },
  {
   "cell_type": "code",
   "execution_count": 41,
   "metadata": {},
   "outputs": [
    {
     "name": "stdout",
     "output_type": "stream",
     "text": [
      "Le nombre de vente total est : 99956\n"
     ]
    }
   ],
   "source": [
    "#Nombre de vente total\n",
    "vente_total = len(sale_price)\n",
    "print(\"Le nombre de vente total est : \" + str(vente_total))"
   ]
  },
  {
   "cell_type": "code",
   "execution_count": 42,
   "metadata": {},
   "outputs": [
    {
     "name": "stdout",
     "output_type": "stream",
     "text": [
      "Les dix dernières ventes sont : {\n",
      "    \"99946\": {\n",
      "        \"Order Date\": \"2/13/19\",\n",
      "        \"Brand\": \" Yeezy\",\n",
      "        \"Sneaker Name\": \"adidas-Yeezy-Boost-350-V2-Static-Reflective\",\n",
      "        \"Sale Price\": \"$699\",\n",
      "        \"Retail Price\": \"$220\",\n",
      "        \"Release Date\": \"12/26/18\",\n",
      "        \"Shoe Size\": 11.0,\n",
      "        \"Buyer Region\": \"New Jersey\"\n",
      "    },\n",
      "    \"99947\": {\n",
      "        \"Order Date\": \"2/13/19\",\n",
      "        \"Brand\": \" Yeezy\",\n",
      "        \"Sneaker Name\": \"adidas-Yeezy-Boost-350-V2-Static-Reflective\",\n",
      "        \"Sale Price\": \"$618\",\n",
      "        \"Retail Price\": \"$220\",\n",
      "        \"Release Date\": \"12/26/18\",\n",
      "        \"Shoe Size\": 9.5,\n",
      "        \"Buyer Region\": \"California\"\n",
      "    },\n",
      "    \"99948\": {\n",
      "        \"Order Date\": \"2/13/19\",\n",
      "        \"Brand\": \" Yeezy\",\n",
      "        \"Sneaker Name\": \"adidas-Yeezy-Boost-350-V2-Static-Reflective\",\n",
      "        \"Sale Price\": \"$581\",\n",
      "        \"Retail Price\": \"$220\",\n",
      "        \"Release Date\": \"12/26/18\",\n",
      "        \"Shoe Size\": 9.0,\n",
      "        \"Buyer Region\": \"Oregon\"\n",
      "    },\n",
      "    \"99949\": {\n",
      "        \"Order Date\": \"2/13/19\",\n",
      "        \"Brand\": \" Yeezy\",\n",
      "        \"Sneaker Name\": \"adidas-Yeezy-Boost-350-V2-Static-Reflective\",\n",
      "        \"Sale Price\": \"$594\",\n",
      "        \"Retail Price\": \"$220\",\n",
      "        \"Release Date\": \"12/26/18\",\n",
      "        \"Shoe Size\": 8.5,\n",
      "        \"Buyer Region\": \"Oregon\"\n",
      "    },\n",
      "    \"99950\": {\n",
      "        \"Order Date\": \"2/13/19\",\n",
      "        \"Brand\": \" Yeezy\",\n",
      "        \"Sneaker Name\": \"adidas-Yeezy-Boost-350-V2-Static-Reflective\",\n",
      "        \"Sale Price\": \"$582\",\n",
      "        \"Retail Price\": \"$220\",\n",
      "        \"Release Date\": \"12/26/18\",\n",
      "        \"Shoe Size\": 10.0,\n",
      "        \"Buyer Region\": \"New Jersey\"\n",
      "    },\n",
      "    \"99951\": {\n",
      "        \"Order Date\": \"2/13/19\",\n",
      "        \"Brand\": \" Yeezy\",\n",
      "        \"Sneaker Name\": \"adidas-Yeezy-Boost-350-V2-Static-Reflective\",\n",
      "        \"Sale Price\": \"$565\",\n",
      "        \"Retail Price\": \"$220\",\n",
      "        \"Release Date\": \"12/26/18\",\n",
      "        \"Shoe Size\": 8.0,\n",
      "        \"Buyer Region\": \"Oregon\"\n",
      "    },\n",
      "    \"99952\": {\n",
      "        \"Order Date\": \"2/13/19\",\n",
      "        \"Brand\": \" Yeezy\",\n",
      "        \"Sneaker Name\": \"adidas-Yeezy-Boost-350-V2-Static-Reflective\",\n",
      "        \"Sale Price\": \"$598\",\n",
      "        \"Retail Price\": \"$220\",\n",
      "        \"Release Date\": \"12/26/18\",\n",
      "        \"Shoe Size\": 8.5,\n",
      "        \"Buyer Region\": \"California\"\n",
      "    },\n",
      "    \"99953\": {\n",
      "        \"Order Date\": \"2/13/19\",\n",
      "        \"Brand\": \" Yeezy\",\n",
      "        \"Sneaker Name\": \"adidas-Yeezy-Boost-350-V2-Static-Reflective\",\n",
      "        \"Sale Price\": \"$605\",\n",
      "        \"Retail Price\": \"$220\",\n",
      "        \"Release Date\": \"12/26/18\",\n",
      "        \"Shoe Size\": 5.5,\n",
      "        \"Buyer Region\": \"New York\"\n",
      "    },\n",
      "    \"99954\": {\n",
      "        \"Order Date\": \"2/13/19\",\n",
      "        \"Brand\": \" Yeezy\",\n",
      "        \"Sneaker Name\": \"adidas-Yeezy-Boost-350-V2-Static-Reflective\",\n",
      "        \"Sale Price\": \"$650\",\n",
      "        \"Retail Price\": \"$220\",\n",
      "        \"Release Date\": \"12/26/18\",\n",
      "        \"Shoe Size\": 11.0,\n",
      "        \"Buyer Region\": \"California\"\n",
      "    },\n",
      "    \"99955\": {\n",
      "        \"Order Date\": \"2/13/19\",\n",
      "        \"Brand\": \" Yeezy\",\n",
      "        \"Sneaker Name\": \"adidas-Yeezy-Boost-350-V2-Static-Reflective\",\n",
      "        \"Sale Price\": \"$640\",\n",
      "        \"Retail Price\": \"$220\",\n",
      "        \"Release Date\": \"12/26/18\",\n",
      "        \"Shoe Size\": 11.5,\n",
      "        \"Buyer Region\": \"Texas\"\n",
      "    }\n",
      "}\n"
     ]
    }
   ],
   "source": [
    "#Les dix dernières ventes\n",
    "dix_dernière_vente = data.tail(10)\n",
    "dix_dernière_venteJson = datajson(dix_dernière_vente)\n",
    "print(\"Les dix dernières ventes sont : \" + str(dix_dernière_venteJson))"
   ]
  },
  {
   "cell_type": "code",
   "execution_count": 43,
   "metadata": {},
   "outputs": [
    {
     "name": "stdout",
     "output_type": "stream",
     "text": [
      "{'prixMoyenVente': 446.63, 'prixEleverVente': 4050.0, 'prixBasVente': 186.0, 'tailleMoyenne': 9.34, 'tailleEleve': 17.0, 'tailleBasse': 3.5, 'taillePlusVenduJson': '{\\n    \"10.0\": 11093,\\n    \"9.0\": 9706,\\n    \"11.0\": 9251,\\n    \"10.5\": 8784,\\n    \"9.5\": 8685,\\n    \"12.0\": 7297,\\n    \"8.0\": 5363,\\n    \"8.5\": 5300,\\n    \"13.0\": 4602,\\n    \"11.5\": 4502\\n}', 'tailleMoinsVenduJson': '{\\n    \"6.5\": 2219,\\n    \"14.0\": 1791,\\n    \"4.5\": 1304,\\n    \"12.5\": 628,\\n    \"13.5\": 147,\\n    \"15.0\": 130,\\n    \"14.5\": 84,\\n    \"16.0\": 79,\\n    \"17.0\": 4,\\n    \"3.5\": 4\\n}', 'etatsMaxJson': '{\\n    \"California\": 19349,\\n    \"New York\": 16525,\\n    \"Oregon\": 7681,\\n    \"Florida\": 6376,\\n    \"Texas\": 5876,\\n    \"New Jersey\": 4720,\\n    \"Illinois\": 3782,\\n    \"Pennsylvania\": 3109,\\n    \"Massachusetts\": 2903,\\n    \"Michigan\": 2762\\n}', 'etatsMinJson': '{\\n    \"West Virginia\": 166,\\n    \"Mississippi\": 163,\\n    \"Maine\": 132,\\n    \"Idaho\": 107,\\n    \"Vermont\": 84,\\n    \"North Dakota\": 64,\\n    \"Alaska\": 61,\\n    \"South Dakota\": 55,\\n    \"Montana\": 49,\\n    \"Wyoming\": 40\\n}', 'marqueMax': 72162, 'marqueMin': 27794, 'modeleMaxJson': '{\\n    \"adidas-Yeezy-Boost-350-V2-Butter\": 11423,\\n    \"Adidas-Yeezy-Boost-350-V2-Beluga-2pt0\": 10395,\\n    \"Adidas-Yeezy-Boost-350-V2-Zebra\": 10110,\\n    \"Adidas-Yeezy-Boost-350-V2-Blue-Tint\": 9297,\\n    \"Adidas-Yeezy-Boost-350-V2-Cream-White\": 9097,\\n    \"Adidas-Yeezy-Boost-350-V2-Sesame\": 5553,\\n    \"adidas-Yeezy-Boost-350-V2-Static\": 4983,\\n    \"Adidas-Yeezy-Boost-350-V2-Semi-Frozen-Yellow\": 4854,\\n    \"Air-Jordan-1-Retro-High-Off-White-University-Blue\": 4635,\\n    \"adidas-Yeezy-Boost-350-V2-Static-Reflective\": 3184\\n}', 'modeleMinJson': '{\\n    \"Nike-Blazer-Mid-Off-White-Wolf-Grey\": 288,\\n    \"Adidas-Yeezy-Boost-350-V2-Core-Black-Copper\": 225,\\n    \"Nike-Air-Max-97-Off-White-Elemental-Rose-Queen\": 216,\\n    \"Adidas-Yeezy-Boost-350-V2-Core-Black-Green\": 196,\\n    \"Adidas-Yeezy-Boost-350-Low-Pirate-Black-2016\": 122,\\n    \"Adidas-Yeezy-Boost-350-Low-Moonrock\": 100,\\n    \"Adidas-Yeezy-Boost-350-Low-Pirate-Black-2015\": 95,\\n    \"Adidas-Yeezy-Boost-350-Low-Oxford-Tan\": 70,\\n    \"Adidas-Yeezy-Boost-350-Low-Turtledove\": 68,\\n    \"Nike-Air-Force-1-Low-Virgil-Abloh-Off-White-AF100\": 31\\n}', 'venteTotal': 99956, 'dixDerniereVenteJson': '{\\n    \"99946\": {\\n        \"Order Date\": \"2/13/19\",\\n        \"Brand\": \" Yeezy\",\\n        \"Sneaker Name\": \"adidas-Yeezy-Boost-350-V2-Static-Reflective\",\\n        \"Sale Price\": \"$699\",\\n        \"Retail Price\": \"$220\",\\n        \"Release Date\": \"12/26/18\",\\n        \"Shoe Size\": 11.0,\\n        \"Buyer Region\": \"New Jersey\"\\n    },\\n    \"99947\": {\\n        \"Order Date\": \"2/13/19\",\\n        \"Brand\": \" Yeezy\",\\n        \"Sneaker Name\": \"adidas-Yeezy-Boost-350-V2-Static-Reflective\",\\n        \"Sale Price\": \"$618\",\\n        \"Retail Price\": \"$220\",\\n        \"Release Date\": \"12/26/18\",\\n        \"Shoe Size\": 9.5,\\n        \"Buyer Region\": \"California\"\\n    },\\n    \"99948\": {\\n        \"Order Date\": \"2/13/19\",\\n        \"Brand\": \" Yeezy\",\\n        \"Sneaker Name\": \"adidas-Yeezy-Boost-350-V2-Static-Reflective\",\\n        \"Sale Price\": \"$581\",\\n        \"Retail Price\": \"$220\",\\n        \"Release Date\": \"12/26/18\",\\n        \"Shoe Size\": 9.0,\\n        \"Buyer Region\": \"Oregon\"\\n    },\\n    \"99949\": {\\n        \"Order Date\": \"2/13/19\",\\n        \"Brand\": \" Yeezy\",\\n        \"Sneaker Name\": \"adidas-Yeezy-Boost-350-V2-Static-Reflective\",\\n        \"Sale Price\": \"$594\",\\n        \"Retail Price\": \"$220\",\\n        \"Release Date\": \"12/26/18\",\\n        \"Shoe Size\": 8.5,\\n        \"Buyer Region\": \"Oregon\"\\n    },\\n    \"99950\": {\\n        \"Order Date\": \"2/13/19\",\\n        \"Brand\": \" Yeezy\",\\n        \"Sneaker Name\": \"adidas-Yeezy-Boost-350-V2-Static-Reflective\",\\n        \"Sale Price\": \"$582\",\\n        \"Retail Price\": \"$220\",\\n        \"Release Date\": \"12/26/18\",\\n        \"Shoe Size\": 10.0,\\n        \"Buyer Region\": \"New Jersey\"\\n    },\\n    \"99951\": {\\n        \"Order Date\": \"2/13/19\",\\n        \"Brand\": \" Yeezy\",\\n        \"Sneaker Name\": \"adidas-Yeezy-Boost-350-V2-Static-Reflective\",\\n        \"Sale Price\": \"$565\",\\n        \"Retail Price\": \"$220\",\\n        \"Release Date\": \"12/26/18\",\\n        \"Shoe Size\": 8.0,\\n        \"Buyer Region\": \"Oregon\"\\n    },\\n    \"99952\": {\\n        \"Order Date\": \"2/13/19\",\\n        \"Brand\": \" Yeezy\",\\n        \"Sneaker Name\": \"adidas-Yeezy-Boost-350-V2-Static-Reflective\",\\n        \"Sale Price\": \"$598\",\\n        \"Retail Price\": \"$220\",\\n        \"Release Date\": \"12/26/18\",\\n        \"Shoe Size\": 8.5,\\n        \"Buyer Region\": \"California\"\\n    },\\n    \"99953\": {\\n        \"Order Date\": \"2/13/19\",\\n        \"Brand\": \" Yeezy\",\\n        \"Sneaker Name\": \"adidas-Yeezy-Boost-350-V2-Static-Reflective\",\\n        \"Sale Price\": \"$605\",\\n        \"Retail Price\": \"$220\",\\n        \"Release Date\": \"12/26/18\",\\n        \"Shoe Size\": 5.5,\\n        \"Buyer Region\": \"New York\"\\n    },\\n    \"99954\": {\\n        \"Order Date\": \"2/13/19\",\\n        \"Brand\": \" Yeezy\",\\n        \"Sneaker Name\": \"adidas-Yeezy-Boost-350-V2-Static-Reflective\",\\n        \"Sale Price\": \"$650\",\\n        \"Retail Price\": \"$220\",\\n        \"Release Date\": \"12/26/18\",\\n        \"Shoe Size\": 11.0,\\n        \"Buyer Region\": \"California\"\\n    },\\n    \"99955\": {\\n        \"Order Date\": \"2/13/19\",\\n        \"Brand\": \" Yeezy\",\\n        \"Sneaker Name\": \"adidas-Yeezy-Boost-350-V2-Static-Reflective\",\\n        \"Sale Price\": \"$640\",\\n        \"Retail Price\": \"$220\",\\n        \"Release Date\": \"12/26/18\",\\n        \"Shoe Size\": 11.5,\\n        \"Buyer Region\": \"Texas\"\\n    }\\n}'}\n"
     ]
    }
   ],
   "source": [
    "#Ecriture dans un fichier json\n",
    "dictionnaire = {}\n",
    "dictionnaire[\"prixMoyenVente\"] = prixMoyenVente\n",
    "dictionnaire[\"prixEleverVente\"] = float(prixEleverVente)\n",
    "dictionnaire['prixBasVente'] = float(prixBasVente)\n",
    "dictionnaire['tailleMoyenne'] = tailleMoyenne\n",
    "dictionnaire['tailleEleve'] = tailleEleve\n",
    "dictionnaire['tailleBasse'] = tailleBasse\n",
    "dictionnaire['taillePlusVenduJson'] = taillePlusVenduJson\n",
    "dictionnaire['tailleMoinsVenduJson'] = tailleMoinsVenduJson\n",
    "dictionnaire['etatsMaxJson'] = etats_maxJson\n",
    "dictionnaire['etatsMinJson'] = etats_minJson\n",
    "dictionnaire['marqueMax'] = int(marque_max)\n",
    "dictionnaire['marqueMin'] = int(marque_min)\n",
    "dictionnaire['modeleMaxJson'] = modele_maxJson\n",
    "dictionnaire['modeleMinJson'] = modele_minJson\n",
    "dictionnaire['venteTotal'] = vente_total\n",
    "dictionnaire['dixDerniereVenteJson'] = dix_dernière_venteJson\n",
    "\n",
    "print(dictionnaire)\n",
    "\n",
    "with open('data.json', 'w') as fp:\n",
    "    json.dump(dictionnaire, fp)"
   ]
  },
  {
   "cell_type": "code",
   "execution_count": null,
   "metadata": {},
   "outputs": [],
   "source": []
  }
 ],
 "metadata": {
  "kernelspec": {
   "display_name": "Python 3",
   "language": "python",
   "name": "python3"
  },
  "language_info": {
   "codemirror_mode": {
    "name": "ipython",
    "version": 3
   },
   "file_extension": ".py",
   "mimetype": "text/x-python",
   "name": "python",
   "nbconvert_exporter": "python",
   "pygments_lexer": "ipython3",
   "version": "3.8.3"
  }
 },
 "nbformat": 4,
 "nbformat_minor": 4
}
