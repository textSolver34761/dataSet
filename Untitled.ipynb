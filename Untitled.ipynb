{
 "cells": [
  {
   "cell_type": "code",
   "execution_count": 2,
   "metadata": {},
   "outputs": [],
   "source": [
    "import pandas as pd"
   ]
  },
  {
   "cell_type": "code",
   "execution_count": 89,
   "metadata": {},
   "outputs": [
    {
     "name": "stdout",
     "output_type": "stream",
     "text": [
      "      Order Date   Brand                                   Sneaker Name  \\\n",
      "0         9/1/17   Yeezy           Adidas-Yeezy-Boost-350-Low-V2-Beluga   \n",
      "1         9/1/17   Yeezy    Adidas-Yeezy-Boost-350-V2-Core-Black-Copper   \n",
      "2         9/1/17   Yeezy     Adidas-Yeezy-Boost-350-V2-Core-Black-Green   \n",
      "3         9/1/17   Yeezy       Adidas-Yeezy-Boost-350-V2-Core-Black-Red   \n",
      "4         9/1/17   Yeezy  Adidas-Yeezy-Boost-350-V2-Core-Black-Red-2017   \n",
      "...          ...     ...                                            ...   \n",
      "99951    2/13/19   Yeezy    adidas-Yeezy-Boost-350-V2-Static-Reflective   \n",
      "99952    2/13/19   Yeezy    adidas-Yeezy-Boost-350-V2-Static-Reflective   \n",
      "99953    2/13/19   Yeezy    adidas-Yeezy-Boost-350-V2-Static-Reflective   \n",
      "99954    2/13/19   Yeezy    adidas-Yeezy-Boost-350-V2-Static-Reflective   \n",
      "99955    2/13/19   Yeezy    adidas-Yeezy-Boost-350-V2-Static-Reflective   \n",
      "\n",
      "      Sale Price Retail Price Release Date  Shoe Size  Buyer Region  \n",
      "0         $1,097         $220      9/24/16       11.0    California  \n",
      "1           $685         $220     11/23/16       11.0    California  \n",
      "2           $690         $220     11/23/16       11.0    California  \n",
      "3         $1,075         $220     11/23/16       11.5      Kentucky  \n",
      "4           $828         $220      2/11/17       11.0  Rhode Island  \n",
      "...          ...          ...          ...        ...           ...  \n",
      "99951       $565         $220     12/26/18        8.0        Oregon  \n",
      "99952       $598         $220     12/26/18        8.5    California  \n",
      "99953       $605         $220     12/26/18        5.5      New York  \n",
      "99954       $650         $220     12/26/18       11.0    California  \n",
      "99955       $640         $220     12/26/18       11.5         Texas  \n",
      "\n",
      "[99956 rows x 8 columns]\n"
     ]
    }
   ],
   "source": [
    "df = pd.read_csv('C:\\stockx.csv')\n",
    "print(df)"
   ]
  },
  {
   "cell_type": "code",
   "execution_count": 36,
   "metadata": {},
   "outputs": [],
   "source": [
    "order_date = df['Order Date']\n",
    "brand = df['Brand']\n",
    "sneaker_name = df['Sneaker Name']\n",
    "sale_price = df['Sale Price']\n",
    "retail_price = df['Retail Price']\n",
    "release_date = df['Release Date']\n",
    "shoe_size = df['Shoe Size']\n",
    "buyer_region = df['Buyer Region']"
   ]
  },
  {
   "cell_type": "code",
   "execution_count": 90,
   "metadata": {},
   "outputs": [
    {
     "name": "stdout",
     "output_type": "stream",
     "text": [
      "0        1,097\n",
      "1          685\n",
      "2          690\n",
      "3        1,075\n",
      "4          828\n",
      "         ...  \n",
      "99951      565\n",
      "99952      598\n",
      "99953      605\n",
      "99954      650\n",
      "99955      640\n",
      "Name: Sale Price, Length: 99956, dtype: object\n"
     ]
    }
   ],
   "source": [
    "sale_price_int = df['Sale Price'].str[1:]\n",
    "print(sale_price_int)"
   ]
  },
  {
   "cell_type": "code",
   "execution_count": 94,
   "metadata": {},
   "outputs": [
    {
     "name": "stdout",
     "output_type": "stream",
     "text": [
      "0        1097\n",
      "1         685\n",
      "2         690\n",
      "3        1075\n",
      "4         828\n",
      "         ... \n",
      "99951     565\n",
      "99952     598\n",
      "99953     605\n",
      "99954     650\n",
      "99955     640\n",
      "Name: Sale Price, Length: 99956, dtype: int32\n"
     ]
    }
   ],
   "source": [
    "sale_price_point = sale_price_int.str.replace(',','')\n",
    "sale_price_int2 = sale_price_point.astype(int)\n",
    "print(sale_price_int2)"
   ]
  },
  {
   "cell_type": "code",
   "execution_count": 96,
   "metadata": {},
   "outputs": [
    {
     "name": "stdout",
     "output_type": "stream",
     "text": [
      "446.63471927648163\n"
     ]
    }
   ],
   "source": [
    "print(sale_price_int2.mean())"
   ]
  },
  {
   "cell_type": "code",
   "execution_count": 95,
   "metadata": {},
   "outputs": [
    {
     "name": "stdout",
     "output_type": "stream",
     "text": [
      "4050\n"
     ]
    }
   ],
   "source": [
    "print(sale_price_int2.max())"
   ]
  },
  {
   "cell_type": "code",
   "execution_count": 97,
   "metadata": {},
   "outputs": [
    {
     "name": "stdout",
     "output_type": "stream",
     "text": [
      "186\n"
     ]
    }
   ],
   "source": [
    "print(sale_price_int2.min())"
   ]
  },
  {
   "cell_type": "code",
   "execution_count": 101,
   "metadata": {},
   "outputs": [
    {
     "name": "stdout",
     "output_type": "stream",
     "text": [
      "<class 'pandas.core.series.Series'>\n"
     ]
    }
   ],
   "source": [
    "print(type(buyer_region))"
   ]
  },
  {
   "cell_type": "code",
   "execution_count": 111,
   "metadata": {},
   "outputs": [
    {
     "name": "stdout",
     "output_type": "stream",
     "text": [
      "California    19349\n",
      "New York      16525\n",
      "Oregon         7681\n",
      "Name: Buyer Region, dtype: int64\n",
      "South Dakota    55\n",
      "Montana         49\n",
      "Wyoming         40\n",
      "Name: Buyer Region, dtype: int64\n"
     ]
    }
   ],
   "source": [
    "count_buyer = buyer_region.value_counts()\n",
    "print(count_buyer.head(3))\n",
    "print(count_buyer.tail(3))"
   ]
  },
  {
   "cell_type": "code",
   "execution_count": 113,
   "metadata": {},
   "outputs": [
    {
     "name": "stdout",
     "output_type": "stream",
     "text": [
      " Yeezy       72162\n",
      "Off-White    27794\n",
      "Name: Brand, dtype: int64\n"
     ]
    }
   ],
   "source": [
    "count_brand = brand.value_counts()\n",
    "print(count_brand)"
   ]
  },
  {
   "cell_type": "code",
   "execution_count": 115,
   "metadata": {},
   "outputs": [
    {
     "name": "stdout",
     "output_type": "stream",
     "text": [
      "adidas-Yeezy-Boost-350-V2-Butter         11423\n",
      "Adidas-Yeezy-Boost-350-V2-Beluga-2pt0    10395\n",
      "Adidas-Yeezy-Boost-350-V2-Zebra          10110\n",
      "Name: Sneaker Name, dtype: int64\n",
      "Adidas-Yeezy-Boost-350-Low-Oxford-Tan                70\n",
      "Adidas-Yeezy-Boost-350-Low-Turtledove                68\n",
      "Nike-Air-Force-1-Low-Virgil-Abloh-Off-White-AF100    31\n",
      "Name: Sneaker Name, dtype: int64\n"
     ]
    }
   ],
   "source": [
    "count_sneaker = sneaker_name.value_counts()\n",
    "print(count_sneaker.head(3))\n",
    "print(count_sneaker.tail(3))"
   ]
  },
  {
   "cell_type": "code",
   "execution_count": 117,
   "metadata": {},
   "outputs": [
    {
     "name": "stdout",
     "output_type": "stream",
     "text": [
      "17.0\n",
      "3.5\n"
     ]
    }
   ],
   "source": [
    "print(shoe_size.max())\n",
    "print(shoe_size.min())"
   ]
  },
  {
   "cell_type": "code",
   "execution_count": 121,
   "metadata": {},
   "outputs": [
    {
     "name": "stdout",
     "output_type": "stream",
     "text": [
      "99956\n"
     ]
    }
   ],
   "source": [
    "print(len(sale_price))"
   ]
  },
  {
   "cell_type": "code",
   "execution_count": 123,
   "metadata": {},
   "outputs": [
    {
     "name": "stdout",
     "output_type": "stream",
     "text": [
      "10.0    11093\n",
      "9.0      9706\n",
      "11.0     9251\n",
      "Name: Shoe Size, dtype: int64\n",
      "16.0    79\n",
      "17.0     4\n",
      "3.5      4\n",
      "Name: Shoe Size, dtype: int64\n"
     ]
    }
   ],
   "source": [
    "count_size = shoe_size.value_counts()\n",
    "print(count_size.head(3))\n",
    "print(count_size.tail(3))"
   ]
  },
  {
   "cell_type": "code",
   "execution_count": 124,
   "metadata": {},
   "outputs": [
    {
     "name": "stdout",
     "output_type": "stream",
     "text": [
      "<class 'pandas.core.series.Series'>\n"
     ]
    }
   ],
   "source": [
    "print(type(count_size))"
   ]
  },
  {
   "cell_type": "code",
   "execution_count": 127,
   "metadata": {},
   "outputs": [
    {
     "name": "stdout",
     "output_type": "stream",
     "text": [
      "44643820\n"
     ]
    }
   ],
   "source": [
    "print(sale_price_int2.sum())"
   ]
  },
  {
   "cell_type": "code",
   "execution_count": null,
   "metadata": {},
   "outputs": [],
   "source": []
  }
 ],
 "metadata": {
  "kernelspec": {
   "display_name": "Python 3",
   "language": "python",
   "name": "python3"
  },
  "language_info": {
   "codemirror_mode": {
    "name": "ipython",
    "version": 3
   },
   "file_extension": ".py",
   "mimetype": "text/x-python",
   "name": "python",
   "nbconvert_exporter": "python",
   "pygments_lexer": "ipython3",
   "version": "3.8.3"
  }
 },
 "nbformat": 4,
 "nbformat_minor": 4
}
